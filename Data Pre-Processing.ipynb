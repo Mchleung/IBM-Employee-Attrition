{
 "cells": [
  {
   "cell_type": "code",
   "execution_count": 224,
   "metadata": {},
   "outputs": [],
   "source": [
    "import pandas as pd\n",
    "import numpy as np\n",
    "import matplotlib.pyplot as plt"
   ]
  },
  {
   "cell_type": "code",
   "execution_count": 226,
   "metadata": {},
   "outputs": [],
   "source": [
    "df = pd.read_csv(\"data/WA_Fn-UseC_-HR-Employee-Attrition 2.csv\")\n",
    "df = df.set_index(np.arange(1,1471))"
   ]
  },
  {
   "cell_type": "code",
   "execution_count": 227,
   "metadata": {},
   "outputs": [],
   "source": [
    "# Create dummies for \"string\" attributes, concat them, and drop the original \"string\" attributes\n",
    "def obj_columns_to_dummies(df):\n",
    "    changed_list = []\n",
    "    print(\"Dummies Created from Columns: \\n\")\n",
    "    for n in range(2, df.shape[1]):\n",
    "        if df.iloc[:,n].dtypes == \"O\":\n",
    "            print(df.iloc[:,n].name)\n",
    "            temp_dummies_dataframe = pd.get_dummies(df.iloc[:,n])\n",
    "            df = pd.concat([df, temp_dummies_dataframe], axis = 1, sort = True)\n",
    "            changed_list.append(df.iloc[:,n].name)\n",
    "\n",
    "    return(df.drop(columns = changed_list))"
   ]
  },
  {
   "cell_type": "code",
   "execution_count": 228,
   "metadata": {},
   "outputs": [
    {
     "name": "stdout",
     "output_type": "stream",
     "text": [
      "Dummies Created from Columns: \n",
      "\n",
      "BusinessTravel\n",
      "Department\n",
      "EducationField\n",
      "Gender\n",
      "JobRole\n",
      "MaritalStatus\n",
      "Over18\n",
      "OverTime\n"
     ]
    }
   ],
   "source": [
    "df = obj_columns_to_dummies(df)"
   ]
  },
  {
   "cell_type": "code",
   "execution_count": 229,
   "metadata": {},
   "outputs": [],
   "source": [
    "# Change the dependent varaible (\"Attrition\") data from string to 0/1\n",
    "for i in range(df.shape[0]):\n",
    "    if df.iloc[i,1] == \"Yes\":\n",
    "        df.iloc[i,1] = 1\n",
    "    else:\n",
    "        df.iloc[i,1] = 0"
   ]
  },
  {
   "cell_type": "code",
   "execution_count": 230,
   "metadata": {},
   "outputs": [],
   "source": [
    "# Columns created by get_dummies function are uint8, which is not the appropriate data type for skl decision tree model\n",
    "# Change datatype uint8 to int\n",
    "def non_int_to_int(df):\n",
    "    for n in range(df.shape[1]):\n",
    "        if df.iloc[:,n].dtypes != \"int64\":\n",
    "            df.iloc[:,n] = df.iloc[:,n].astype(\"int\")\n",
    "    return (df)"
   ]
  },
  {
   "cell_type": "code",
   "execution_count": 231,
   "metadata": {},
   "outputs": [],
   "source": [
    "df = non_int_to_int(df)"
   ]
  },
  {
   "cell_type": "code",
   "execution_count": 234,
   "metadata": {},
   "outputs": [],
   "source": [
    "df.to_csv(\"Pre-Processed Data.csv\", index = False)"
   ]
  }
 ],
 "metadata": {
  "kernelspec": {
   "display_name": "Python 3",
   "language": "python",
   "name": "python3"
  },
  "language_info": {
   "codemirror_mode": {
    "name": "ipython",
    "version": 3
   },
   "file_extension": ".py",
   "mimetype": "text/x-python",
   "name": "python",
   "nbconvert_exporter": "python",
   "pygments_lexer": "ipython3",
   "version": "3.7.4"
  }
 },
 "nbformat": 4,
 "nbformat_minor": 4
}
