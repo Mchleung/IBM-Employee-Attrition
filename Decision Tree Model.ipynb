{
 "cells": [
  {
   "cell_type": "code",
   "execution_count": 1,
   "metadata": {},
   "outputs": [],
   "source": [
    "import pandas as pd\n",
    "import numpy as np\n",
    "import matplotlib.pyplot as plt\n",
    "from sklearn.tree import DecisionTreeClassifier\n",
    "from sklearn.model_selection import GridSearchCV\n",
    "from sklearn.model_selection import cross_val_score"
   ]
  },
  {
   "cell_type": "code",
   "execution_count": 25,
   "metadata": {},
   "outputs": [],
   "source": [
    "from sklearn import tree\n",
    "from sklearn.tree import export_graphviz\n",
    "from IPython.display import Image\n",
    "import pydotplus\n",
    "import graphviz"
   ]
  },
  {
   "cell_type": "code",
   "execution_count": 6,
   "metadata": {},
   "outputs": [],
   "source": [
    "df = pd.read_csv(\"Pre-Processed Data.csv\")"
   ]
  },
  {
   "cell_type": "code",
   "execution_count": 8,
   "metadata": {},
   "outputs": [],
   "source": [
    "X = df.drop(columns = \"Attrition\")\n",
    "y = df[[\"Attrition\"]]"
   ]
  },
  {
   "cell_type": "code",
   "execution_count": 9,
   "metadata": {},
   "outputs": [
    {
     "name": "stdout",
     "output_type": "stream",
     "text": [
      "0.7821825249907441\n"
     ]
    }
   ],
   "source": [
    "# Approximate DecisionTreeClassifier accuracy \n",
    "print(cross_val_score(DecisionTreeClassifier(), X, y, cv = 20).mean())"
   ]
  },
  {
   "cell_type": "code",
   "execution_count": 19,
   "metadata": {},
   "outputs": [],
   "source": [
    "depths = np.arange(10, 21)\n",
    "num_leafs = np.arange(10,80,2)\n",
    "samples_split= np.arange(2,10)\n",
    "\n",
    "try_grid = [{'max_depth':depths,\n",
    "              'max_leaf_nodes':num_leafs,\n",
    "                \"min_samples_split\": samples_split\n",
    "                    }]"
   ]
  },
  {
   "cell_type": "code",
   "execution_count": 20,
   "metadata": {},
   "outputs": [
    {
     "data": {
      "text/plain": [
       "GridSearchCV(cv=10, error_score=nan,\n",
       "             estimator=DecisionTreeClassifier(ccp_alpha=0.0, class_weight=None,\n",
       "                                              criterion='gini', max_depth=None,\n",
       "                                              max_features=None,\n",
       "                                              max_leaf_nodes=None,\n",
       "                                              min_impurity_decrease=0.0,\n",
       "                                              min_impurity_split=None,\n",
       "                                              min_samples_leaf=1,\n",
       "                                              min_samples_split=2,\n",
       "                                              min_weight_fraction_leaf=0.0,\n",
       "                                              presort='deprecated',\n",
       "                                              random_state=None,\n",
       "                                              splitter='best'),\n",
       "             iid='deprecated', n_jobs=None,\n",
       "             param_grid=[{'max_depth': array([10, 11, 12, 13, 14, 15, 16, 17, 18, 19, 20]),\n",
       "                          'max_leaf_nodes': array([10, 12, 14, 16, 18, 20, 22, 24, 26, 28, 30, 32, 34, 36, 38, 40, 42,\n",
       "       44, 46, 48, 50, 52, 54, 56, 58, 60, 62, 64, 66, 68, 70, 72, 74, 76,\n",
       "       78]),\n",
       "                          'min_samples_split': array([2, 3, 4, 5, 6, 7, 8, 9])}],\n",
       "             pre_dispatch='2*n_jobs', refit=True, return_train_score=False,\n",
       "             scoring=None, verbose=0)"
      ]
     },
     "execution_count": 20,
     "metadata": {},
     "output_type": "execute_result"
    }
   ],
   "source": [
    "DTM = GridSearchCV(DecisionTreeClassifier(), param_grid = try_grid, cv=10)\n",
    "DTM.fit(X,y)"
   ]
  },
  {
   "cell_type": "code",
   "execution_count": 21,
   "metadata": {},
   "outputs": [
    {
     "name": "stdout",
     "output_type": "stream",
     "text": [
      "{'max_depth': 10, 'max_leaf_nodes': 10, 'min_samples_split': 2}\n",
      "0.8476190476190476\n"
     ]
    }
   ],
   "source": [
    "print(DTM.best_params_)\n",
    "print(DTM.best_score_)"
   ]
  },
  {
   "cell_type": "code",
   "execution_count": 22,
   "metadata": {},
   "outputs": [],
   "source": [
    "DT = DecisionTreeClassifier(max_depth = 10, max_leaf_nodes = 10, min_samples_split = 2)"
   ]
  },
  {
   "cell_type": "code",
   "execution_count": 23,
   "metadata": {},
   "outputs": [
    {
     "name": "stdout",
     "output_type": "stream",
     "text": [
      "0.8428452425027768\n"
     ]
    }
   ],
   "source": [
    "# Approximate DecisionTreeClassifier accuracy \n",
    "print(cross_val_score(DT, X, y, cv = 20).mean())"
   ]
  },
  {
   "cell_type": "code",
   "execution_count": 29,
   "metadata": {},
   "outputs": [
    {
     "data": {
      "text/plain": [
       "DecisionTreeClassifier(ccp_alpha=0.0, class_weight=None, criterion='gini',\n",
       "                       max_depth=10, max_features=None, max_leaf_nodes=10,\n",
       "                       min_impurity_decrease=0.0, min_impurity_split=None,\n",
       "                       min_samples_leaf=1, min_samples_split=2,\n",
       "                       min_weight_fraction_leaf=0.0, presort='deprecated',\n",
       "                       random_state=None, splitter='best')"
      ]
     },
     "execution_count": 29,
     "metadata": {},
     "output_type": "execute_result"
    }
   ],
   "source": [
    "DT.fit(X,y)"
   ]
  },
  {
   "cell_type": "code",
   "execution_count": 30,
   "metadata": {},
   "outputs": [],
   "source": [
    "dot_data = tree.export_graphviz(DT, out_file=None, \n",
    "                      feature_names = list(X.columns),  \n",
    "                      class_names=['Left', 'Stay'],\n",
    "                      filled = True, rounded=True,  \n",
    "                      special_characters=True)"
   ]
  },
  {
   "cell_type": "code",
   "execution_count": 33,
   "metadata": {
    "scrolled": false
   },
   "outputs": [
    {
     "data": {
      "image/svg+xml": [
       "<?xml version=\"1.0\" encoding=\"UTF-8\" standalone=\"no\"?>\n",
       "<!DOCTYPE svg PUBLIC \"-//W3C//DTD SVG 1.1//EN\"\n",
       " \"http://www.w3.org/Graphics/SVG/1.1/DTD/svg11.dtd\">\n",
       "<!-- Generated by graphviz version 2.40.1 (20161225.0304)\n",
       " -->\n",
       "<!-- Title: Tree Pages: 1 -->\n",
       "<svg width=\"873pt\" height=\"671pt\"\n",
       " viewBox=\"0.00 0.00 872.50 671.00\" xmlns=\"http://www.w3.org/2000/svg\" xmlns:xlink=\"http://www.w3.org/1999/xlink\">\n",
       "<g id=\"graph0\" class=\"graph\" transform=\"scale(1 1) rotate(0) translate(4 667)\">\n",
       "<title>Tree</title>\n",
       "<polygon fill=\"#ffffff\" stroke=\"transparent\" points=\"-4,4 -4,-667 868.5,-667 868.5,4 -4,4\"/>\n",
       "<!-- 0 -->\n",
       "<g id=\"node1\" class=\"node\">\n",
       "<title>0</title>\n",
       "<path fill=\"#ea995f\" stroke=\"#000000\" d=\"M604.5,-663C604.5,-663 492.5,-663 492.5,-663 486.5,-663 480.5,-657 480.5,-651 480.5,-651 480.5,-592 480.5,-592 480.5,-586 486.5,-580 492.5,-580 492.5,-580 604.5,-580 604.5,-580 610.5,-580 616.5,-586 616.5,-592 616.5,-592 616.5,-651 616.5,-651 616.5,-657 610.5,-663 604.5,-663\"/>\n",
       "<text text-anchor=\"start\" x=\"522\" y=\"-647.8\" font-family=\"Helvetica,sans-Serif\" font-size=\"14.00\" fill=\"#000000\">No ≤ 0.5</text>\n",
       "<text text-anchor=\"start\" x=\"516\" y=\"-632.8\" font-family=\"Helvetica,sans-Serif\" font-size=\"14.00\" fill=\"#000000\">gini = 0.27</text>\n",
       "<text text-anchor=\"start\" x=\"498.5\" y=\"-617.8\" font-family=\"Helvetica,sans-Serif\" font-size=\"14.00\" fill=\"#000000\">samples = 1470</text>\n",
       "<text text-anchor=\"start\" x=\"488.5\" y=\"-602.8\" font-family=\"Helvetica,sans-Serif\" font-size=\"14.00\" fill=\"#000000\">value = [1233, 237]</text>\n",
       "<text text-anchor=\"start\" x=\"512.5\" y=\"-587.8\" font-family=\"Helvetica,sans-Serif\" font-size=\"14.00\" fill=\"#000000\">class = Left</text>\n",
       "</g>\n",
       "<!-- 1 -->\n",
       "<g id=\"node2\" class=\"node\">\n",
       "<title>1</title>\n",
       "<path fill=\"#f0b890\" stroke=\"#000000\" d=\"M488.5,-544C488.5,-544 342.5,-544 342.5,-544 336.5,-544 330.5,-538 330.5,-532 330.5,-532 330.5,-473 330.5,-473 330.5,-467 336.5,-461 342.5,-461 342.5,-461 488.5,-461 488.5,-461 494.5,-461 500.5,-467 500.5,-473 500.5,-473 500.5,-532 500.5,-532 500.5,-538 494.5,-544 488.5,-544\"/>\n",
       "<text text-anchor=\"start\" x=\"338.5\" y=\"-528.8\" font-family=\"Helvetica,sans-Serif\" font-size=\"14.00\" fill=\"#000000\">MonthlyIncome ≤ 2475.0</text>\n",
       "<text text-anchor=\"start\" x=\"379\" y=\"-513.8\" font-family=\"Helvetica,sans-Serif\" font-size=\"14.00\" fill=\"#000000\">gini = 0.424</text>\n",
       "<text text-anchor=\"start\" x=\"369.5\" y=\"-498.8\" font-family=\"Helvetica,sans-Serif\" font-size=\"14.00\" fill=\"#000000\">samples = 416</text>\n",
       "<text text-anchor=\"start\" x=\"359.5\" y=\"-483.8\" font-family=\"Helvetica,sans-Serif\" font-size=\"14.00\" fill=\"#000000\">value = [289, 127]</text>\n",
       "<text text-anchor=\"start\" x=\"379.5\" y=\"-468.8\" font-family=\"Helvetica,sans-Serif\" font-size=\"14.00\" fill=\"#000000\">class = Left</text>\n",
       "</g>\n",
       "<!-- 0&#45;&gt;1 -->\n",
       "<g id=\"edge1\" class=\"edge\">\n",
       "<title>0&#45;&gt;1</title>\n",
       "<path fill=\"none\" stroke=\"#000000\" d=\"M501.9831,-579.8796C491.6152,-570.6031 480.5329,-560.6874 469.8801,-551.1559\"/>\n",
       "<polygon fill=\"#000000\" stroke=\"#000000\" points=\"472.0017,-548.3577 462.2155,-544.2981 467.3341,-553.5744 472.0017,-548.3577\"/>\n",
       "<text text-anchor=\"middle\" x=\"463.6022\" y=\"-565.5596\" font-family=\"Helvetica,sans-Serif\" font-size=\"14.00\" fill=\"#000000\">True</text>\n",
       "</g>\n",
       "<!-- 2 -->\n",
       "<g id=\"node15\" class=\"node\">\n",
       "<title>2</title>\n",
       "<path fill=\"#e89050\" stroke=\"#000000\" d=\"M715.5,-544C715.5,-544 569.5,-544 569.5,-544 563.5,-544 557.5,-538 557.5,-532 557.5,-532 557.5,-473 557.5,-473 557.5,-467 563.5,-461 569.5,-461 569.5,-461 715.5,-461 715.5,-461 721.5,-461 727.5,-467 727.5,-473 727.5,-473 727.5,-532 727.5,-532 727.5,-538 721.5,-544 715.5,-544\"/>\n",
       "<text text-anchor=\"start\" x=\"565.5\" y=\"-528.8\" font-family=\"Helvetica,sans-Serif\" font-size=\"14.00\" fill=\"#000000\">TotalWorkingYears ≤ 2.5</text>\n",
       "<text text-anchor=\"start\" x=\"606\" y=\"-513.8\" font-family=\"Helvetica,sans-Serif\" font-size=\"14.00\" fill=\"#000000\">gini = 0.187</text>\n",
       "<text text-anchor=\"start\" x=\"592.5\" y=\"-498.8\" font-family=\"Helvetica,sans-Serif\" font-size=\"14.00\" fill=\"#000000\">samples = 1054</text>\n",
       "<text text-anchor=\"start\" x=\"586.5\" y=\"-483.8\" font-family=\"Helvetica,sans-Serif\" font-size=\"14.00\" fill=\"#000000\">value = [944, 110]</text>\n",
       "<text text-anchor=\"start\" x=\"606.5\" y=\"-468.8\" font-family=\"Helvetica,sans-Serif\" font-size=\"14.00\" fill=\"#000000\">class = Left</text>\n",
       "</g>\n",
       "<!-- 0&#45;&gt;2 -->\n",
       "<g id=\"edge14\" class=\"edge\">\n",
       "<title>0&#45;&gt;2</title>\n",
       "<path fill=\"none\" stroke=\"#000000\" d=\"M581.3766,-579.8796C588.4197,-570.9633 595.9293,-561.4565 603.1874,-552.268\"/>\n",
       "<polygon fill=\"#000000\" stroke=\"#000000\" points=\"606.0309,-554.3147 609.483,-544.2981 600.5379,-549.9757 606.0309,-554.3147\"/>\n",
       "<text text-anchor=\"middle\" x=\"612.3973\" y=\"-565.4276\" font-family=\"Helvetica,sans-Serif\" font-size=\"14.00\" fill=\"#000000\">False</text>\n",
       "</g>\n",
       "<!-- 3 -->\n",
       "<g id=\"node3\" class=\"node\">\n",
       "<title>3</title>\n",
       "<path fill=\"#90c8f0\" stroke=\"#000000\" d=\"M262.5,-425C262.5,-425 158.5,-425 158.5,-425 152.5,-425 146.5,-419 146.5,-413 146.5,-413 146.5,-354 146.5,-354 146.5,-348 152.5,-342 158.5,-342 158.5,-342 262.5,-342 262.5,-342 268.5,-342 274.5,-348 274.5,-354 274.5,-354 274.5,-413 274.5,-413 274.5,-419 268.5,-425 262.5,-425\"/>\n",
       "<text text-anchor=\"start\" x=\"154.5\" y=\"-409.8\" font-family=\"Helvetica,sans-Serif\" font-size=\"14.00\" fill=\"#000000\">DailyRate ≤ 931.0</text>\n",
       "<text text-anchor=\"start\" x=\"174\" y=\"-394.8\" font-family=\"Helvetica,sans-Serif\" font-size=\"14.00\" fill=\"#000000\">gini = 0.423</text>\n",
       "<text text-anchor=\"start\" x=\"168.5\" y=\"-379.8\" font-family=\"Helvetica,sans-Serif\" font-size=\"14.00\" fill=\"#000000\">samples = 69</text>\n",
       "<text text-anchor=\"start\" x=\"162\" y=\"-364.8\" font-family=\"Helvetica,sans-Serif\" font-size=\"14.00\" fill=\"#000000\">value = [21, 48]</text>\n",
       "<text text-anchor=\"start\" x=\"172.5\" y=\"-349.8\" font-family=\"Helvetica,sans-Serif\" font-size=\"14.00\" fill=\"#000000\">class = Stay</text>\n",
       "</g>\n",
       "<!-- 1&#45;&gt;3 -->\n",
       "<g id=\"edge2\" class=\"edge\">\n",
       "<title>1&#45;&gt;3</title>\n",
       "<path fill=\"none\" stroke=\"#000000\" d=\"M343.8009,-460.8796C324.2763,-449.5458 303.1079,-437.2578 283.5113,-425.8822\"/>\n",
       "<polygon fill=\"#000000\" stroke=\"#000000\" points=\"285.0353,-422.7199 274.6297,-420.7265 281.521,-428.7739 285.0353,-422.7199\"/>\n",
       "</g>\n",
       "<!-- 4 -->\n",
       "<g id=\"node8\" class=\"node\">\n",
       "<title>4</title>\n",
       "<path fill=\"#eda673\" stroke=\"#000000\" d=\"M463.5,-425C463.5,-425 367.5,-425 367.5,-425 361.5,-425 355.5,-419 355.5,-413 355.5,-413 355.5,-354 355.5,-354 355.5,-348 361.5,-342 367.5,-342 367.5,-342 463.5,-342 463.5,-342 469.5,-342 475.5,-348 475.5,-354 475.5,-354 475.5,-413 475.5,-413 475.5,-419 469.5,-425 463.5,-425\"/>\n",
       "<text text-anchor=\"start\" x=\"378.5\" y=\"-409.8\" font-family=\"Helvetica,sans-Serif\" font-size=\"14.00\" fill=\"#000000\">Single ≤ 0.5</text>\n",
       "<text text-anchor=\"start\" x=\"379\" y=\"-394.8\" font-family=\"Helvetica,sans-Serif\" font-size=\"14.00\" fill=\"#000000\">gini = 0.352</text>\n",
       "<text text-anchor=\"start\" x=\"369.5\" y=\"-379.8\" font-family=\"Helvetica,sans-Serif\" font-size=\"14.00\" fill=\"#000000\">samples = 347</text>\n",
       "<text text-anchor=\"start\" x=\"363.5\" y=\"-364.8\" font-family=\"Helvetica,sans-Serif\" font-size=\"14.00\" fill=\"#000000\">value = [268, 79]</text>\n",
       "<text text-anchor=\"start\" x=\"379.5\" y=\"-349.8\" font-family=\"Helvetica,sans-Serif\" font-size=\"14.00\" fill=\"#000000\">class = Left</text>\n",
       "</g>\n",
       "<!-- 1&#45;&gt;4 -->\n",
       "<g id=\"edge7\" class=\"edge\">\n",
       "<title>1&#45;&gt;4</title>\n",
       "<path fill=\"none\" stroke=\"#000000\" d=\"M415.5,-460.8796C415.5,-452.6838 415.5,-443.9891 415.5,-435.5013\"/>\n",
       "<polygon fill=\"#000000\" stroke=\"#000000\" points=\"419.0001,-435.298 415.5,-425.2981 412.0001,-435.2981 419.0001,-435.298\"/>\n",
       "</g>\n",
       "<!-- 9 -->\n",
       "<g id=\"node4\" class=\"node\">\n",
       "<title>9</title>\n",
       "<path fill=\"#54abe9\" stroke=\"#000000\" d=\"M93,-298.5C93,-298.5 12,-298.5 12,-298.5 6,-298.5 0,-292.5 0,-286.5 0,-286.5 0,-242.5 0,-242.5 0,-236.5 6,-230.5 12,-230.5 12,-230.5 93,-230.5 93,-230.5 99,-230.5 105,-236.5 105,-242.5 105,-242.5 105,-286.5 105,-286.5 105,-292.5 99,-298.5 93,-298.5\"/>\n",
       "<text text-anchor=\"start\" x=\"16\" y=\"-283.3\" font-family=\"Helvetica,sans-Serif\" font-size=\"14.00\" fill=\"#000000\">gini = 0.214</text>\n",
       "<text text-anchor=\"start\" x=\"10.5\" y=\"-268.3\" font-family=\"Helvetica,sans-Serif\" font-size=\"14.00\" fill=\"#000000\">samples = 41</text>\n",
       "<text text-anchor=\"start\" x=\"8\" y=\"-253.3\" font-family=\"Helvetica,sans-Serif\" font-size=\"14.00\" fill=\"#000000\">value = [5, 36]</text>\n",
       "<text text-anchor=\"start\" x=\"14.5\" y=\"-238.3\" font-family=\"Helvetica,sans-Serif\" font-size=\"14.00\" fill=\"#000000\">class = Stay</text>\n",
       "</g>\n",
       "<!-- 3&#45;&gt;9 -->\n",
       "<g id=\"edge3\" class=\"edge\">\n",
       "<title>3&#45;&gt;9</title>\n",
       "<path fill=\"none\" stroke=\"#000000\" d=\"M155.2393,-341.8796C139.2497,-329.8368 121.8297,-316.7167 105.9526,-304.7586\"/>\n",
       "<polygon fill=\"#000000\" stroke=\"#000000\" points=\"107.8998,-301.8435 97.8062,-298.623 103.6884,-307.435 107.8998,-301.8435\"/>\n",
       "</g>\n",
       "<!-- 10 -->\n",
       "<g id=\"node5\" class=\"node\">\n",
       "<title>10</title>\n",
       "<path fill=\"#f8e0ce\" stroke=\"#000000\" d=\"M286,-306C286,-306 135,-306 135,-306 129,-306 123,-300 123,-294 123,-294 123,-235 123,-235 123,-229 129,-223 135,-223 135,-223 286,-223 286,-223 292,-223 298,-229 298,-235 298,-235 298,-294 298,-294 298,-300 292,-306 286,-306\"/>\n",
       "<text text-anchor=\"start\" x=\"131\" y=\"-290.8\" font-family=\"Helvetica,sans-Serif\" font-size=\"14.00\" fill=\"#000000\">YearsInCurrentRole ≤ 2.5</text>\n",
       "<text text-anchor=\"start\" x=\"178\" y=\"-275.8\" font-family=\"Helvetica,sans-Serif\" font-size=\"14.00\" fill=\"#000000\">gini = 0.49</text>\n",
       "<text text-anchor=\"start\" x=\"168.5\" y=\"-260.8\" font-family=\"Helvetica,sans-Serif\" font-size=\"14.00\" fill=\"#000000\">samples = 28</text>\n",
       "<text text-anchor=\"start\" x=\"162\" y=\"-245.8\" font-family=\"Helvetica,sans-Serif\" font-size=\"14.00\" fill=\"#000000\">value = [16, 12]</text>\n",
       "<text text-anchor=\"start\" x=\"174.5\" y=\"-230.8\" font-family=\"Helvetica,sans-Serif\" font-size=\"14.00\" fill=\"#000000\">class = Left</text>\n",
       "</g>\n",
       "<!-- 3&#45;&gt;10 -->\n",
       "<g id=\"edge4\" class=\"edge\">\n",
       "<title>3&#45;&gt;10</title>\n",
       "<path fill=\"none\" stroke=\"#000000\" d=\"M210.5,-341.8796C210.5,-333.6838 210.5,-324.9891 210.5,-316.5013\"/>\n",
       "<polygon fill=\"#000000\" stroke=\"#000000\" points=\"214.0001,-316.298 210.5,-306.2981 207.0001,-316.2981 214.0001,-316.298\"/>\n",
       "</g>\n",
       "<!-- 11 -->\n",
       "<g id=\"node6\" class=\"node\">\n",
       "<title>11</title>\n",
       "<path fill=\"#9ccef2\" stroke=\"#000000\" d=\"M190,-179.5C190,-179.5 109,-179.5 109,-179.5 103,-179.5 97,-173.5 97,-167.5 97,-167.5 97,-123.5 97,-123.5 97,-117.5 103,-111.5 109,-111.5 109,-111.5 190,-111.5 190,-111.5 196,-111.5 202,-117.5 202,-123.5 202,-123.5 202,-167.5 202,-167.5 202,-173.5 196,-179.5 190,-179.5\"/>\n",
       "<text text-anchor=\"start\" x=\"113\" y=\"-164.3\" font-family=\"Helvetica,sans-Serif\" font-size=\"14.00\" fill=\"#000000\">gini = 0.444</text>\n",
       "<text text-anchor=\"start\" x=\"107.5\" y=\"-149.3\" font-family=\"Helvetica,sans-Serif\" font-size=\"14.00\" fill=\"#000000\">samples = 18</text>\n",
       "<text text-anchor=\"start\" x=\"105\" y=\"-134.3\" font-family=\"Helvetica,sans-Serif\" font-size=\"14.00\" fill=\"#000000\">value = [6, 12]</text>\n",
       "<text text-anchor=\"start\" x=\"111.5\" y=\"-119.3\" font-family=\"Helvetica,sans-Serif\" font-size=\"14.00\" fill=\"#000000\">class = Stay</text>\n",
       "</g>\n",
       "<!-- 10&#45;&gt;11 -->\n",
       "<g id=\"edge5\" class=\"edge\">\n",
       "<title>10&#45;&gt;11</title>\n",
       "<path fill=\"none\" stroke=\"#000000\" d=\"M189.1652,-222.8796C183.5285,-211.8835 177.4315,-199.9893 171.7478,-188.9015\"/>\n",
       "<polygon fill=\"#000000\" stroke=\"#000000\" points=\"174.7663,-187.1173 167.09,-179.8149 168.5371,-190.3105 174.7663,-187.1173\"/>\n",
       "</g>\n",
       "<!-- 12 -->\n",
       "<g id=\"node7\" class=\"node\">\n",
       "<title>12</title>\n",
       "<path fill=\"#e58139\" stroke=\"#000000\" d=\"M313,-179.5C313,-179.5 232,-179.5 232,-179.5 226,-179.5 220,-173.5 220,-167.5 220,-167.5 220,-123.5 220,-123.5 220,-117.5 226,-111.5 232,-111.5 232,-111.5 313,-111.5 313,-111.5 319,-111.5 325,-117.5 325,-123.5 325,-123.5 325,-167.5 325,-167.5 325,-173.5 319,-179.5 313,-179.5\"/>\n",
       "<text text-anchor=\"start\" x=\"243.5\" y=\"-164.3\" font-family=\"Helvetica,sans-Serif\" font-size=\"14.00\" fill=\"#000000\">gini = 0.0</text>\n",
       "<text text-anchor=\"start\" x=\"230.5\" y=\"-149.3\" font-family=\"Helvetica,sans-Serif\" font-size=\"14.00\" fill=\"#000000\">samples = 10</text>\n",
       "<text text-anchor=\"start\" x=\"228\" y=\"-134.3\" font-family=\"Helvetica,sans-Serif\" font-size=\"14.00\" fill=\"#000000\">value = [10, 0]</text>\n",
       "<text text-anchor=\"start\" x=\"236.5\" y=\"-119.3\" font-family=\"Helvetica,sans-Serif\" font-size=\"14.00\" fill=\"#000000\">class = Left</text>\n",
       "</g>\n",
       "<!-- 10&#45;&gt;12 -->\n",
       "<g id=\"edge6\" class=\"edge\">\n",
       "<title>10&#45;&gt;12</title>\n",
       "<path fill=\"none\" stroke=\"#000000\" d=\"M232.1846,-222.8796C237.9136,-211.8835 244.1106,-199.9893 249.8874,-188.9015\"/>\n",
       "<polygon fill=\"#000000\" stroke=\"#000000\" points=\"253.105,-190.3007 254.6216,-179.8149 246.897,-187.0662 253.105,-190.3007\"/>\n",
       "</g>\n",
       "<!-- 7 -->\n",
       "<g id=\"node9\" class=\"node\">\n",
       "<title>7</title>\n",
       "<path fill=\"#ea985d\" stroke=\"#000000\" d=\"M424.5,-298.5C424.5,-298.5 328.5,-298.5 328.5,-298.5 322.5,-298.5 316.5,-292.5 316.5,-286.5 316.5,-286.5 316.5,-242.5 316.5,-242.5 316.5,-236.5 322.5,-230.5 328.5,-230.5 328.5,-230.5 424.5,-230.5 424.5,-230.5 430.5,-230.5 436.5,-236.5 436.5,-242.5 436.5,-242.5 436.5,-286.5 436.5,-286.5 436.5,-292.5 430.5,-298.5 424.5,-298.5\"/>\n",
       "<text text-anchor=\"start\" x=\"340\" y=\"-283.3\" font-family=\"Helvetica,sans-Serif\" font-size=\"14.00\" fill=\"#000000\">gini = 0.261</text>\n",
       "<text text-anchor=\"start\" x=\"330.5\" y=\"-268.3\" font-family=\"Helvetica,sans-Serif\" font-size=\"14.00\" fill=\"#000000\">samples = 246</text>\n",
       "<text text-anchor=\"start\" x=\"324.5\" y=\"-253.3\" font-family=\"Helvetica,sans-Serif\" font-size=\"14.00\" fill=\"#000000\">value = [208, 38]</text>\n",
       "<text text-anchor=\"start\" x=\"340.5\" y=\"-238.3\" font-family=\"Helvetica,sans-Serif\" font-size=\"14.00\" fill=\"#000000\">class = Left</text>\n",
       "</g>\n",
       "<!-- 4&#45;&gt;7 -->\n",
       "<g id=\"edge8\" class=\"edge\">\n",
       "<title>4&#45;&gt;7</title>\n",
       "<path fill=\"none\" stroke=\"#000000\" d=\"M401.8597,-341.8796C398.328,-331.1034 394.5136,-319.4647 390.9424,-308.5677\"/>\n",
       "<polygon fill=\"#000000\" stroke=\"#000000\" points=\"394.1864,-307.2276 387.7461,-298.8149 387.5345,-309.4077 394.1864,-307.2276\"/>\n",
       "</g>\n",
       "<!-- 8 -->\n",
       "<g id=\"node10\" class=\"node\">\n",
       "<title>8</title>\n",
       "<path fill=\"#f7d7c0\" stroke=\"#000000\" d=\"M556,-306C556,-306 467,-306 467,-306 461,-306 455,-300 455,-294 455,-294 455,-235 455,-235 455,-229 461,-223 467,-223 467,-223 556,-223 556,-223 562,-223 568,-229 568,-235 568,-235 568,-294 568,-294 568,-300 562,-306 556,-306\"/>\n",
       "<text text-anchor=\"start\" x=\"476.5\" y=\"-290.8\" font-family=\"Helvetica,sans-Serif\" font-size=\"14.00\" fill=\"#000000\">Sales ≤ 0.5</text>\n",
       "<text text-anchor=\"start\" x=\"475\" y=\"-275.8\" font-family=\"Helvetica,sans-Serif\" font-size=\"14.00\" fill=\"#000000\">gini = 0.482</text>\n",
       "<text text-anchor=\"start\" x=\"465.5\" y=\"-260.8\" font-family=\"Helvetica,sans-Serif\" font-size=\"14.00\" fill=\"#000000\">samples = 101</text>\n",
       "<text text-anchor=\"start\" x=\"463\" y=\"-245.8\" font-family=\"Helvetica,sans-Serif\" font-size=\"14.00\" fill=\"#000000\">value = [60, 41]</text>\n",
       "<text text-anchor=\"start\" x=\"475.5\" y=\"-230.8\" font-family=\"Helvetica,sans-Serif\" font-size=\"14.00\" fill=\"#000000\">class = Left</text>\n",
       "</g>\n",
       "<!-- 4&#45;&gt;8 -->\n",
       "<g id=\"edge9\" class=\"edge\">\n",
       "<title>4&#45;&gt;8</title>\n",
       "<path fill=\"none\" stroke=\"#000000\" d=\"M449.0761,-341.8796C456.2691,-332.9633 463.9384,-323.4565 471.351,-314.268\"/>\n",
       "<polygon fill=\"#000000\" stroke=\"#000000\" points=\"474.2258,-316.2788 477.7805,-306.2981 468.7776,-311.8836 474.2258,-316.2788\"/>\n",
       "</g>\n",
       "<!-- 15 -->\n",
       "<g id=\"node11\" class=\"node\">\n",
       "<title>15</title>\n",
       "<path fill=\"#efb286\" stroke=\"#000000\" d=\"M512.5,-187C512.5,-187 366.5,-187 366.5,-187 360.5,-187 354.5,-181 354.5,-175 354.5,-175 354.5,-116 354.5,-116 354.5,-110 360.5,-104 366.5,-104 366.5,-104 512.5,-104 512.5,-104 518.5,-104 524.5,-110 524.5,-116 524.5,-116 524.5,-175 524.5,-175 524.5,-181 518.5,-187 512.5,-187\"/>\n",
       "<text text-anchor=\"start\" x=\"362.5\" y=\"-171.8\" font-family=\"Helvetica,sans-Serif\" font-size=\"14.00\" fill=\"#000000\">MonthlyIncome ≤ 4035.0</text>\n",
       "<text text-anchor=\"start\" x=\"403\" y=\"-156.8\" font-family=\"Helvetica,sans-Serif\" font-size=\"14.00\" fill=\"#000000\">gini = 0.402</text>\n",
       "<text text-anchor=\"start\" x=\"397.5\" y=\"-141.8\" font-family=\"Helvetica,sans-Serif\" font-size=\"14.00\" fill=\"#000000\">samples = 61</text>\n",
       "<text text-anchor=\"start\" x=\"391\" y=\"-126.8\" font-family=\"Helvetica,sans-Serif\" font-size=\"14.00\" fill=\"#000000\">value = [44, 17]</text>\n",
       "<text text-anchor=\"start\" x=\"403.5\" y=\"-111.8\" font-family=\"Helvetica,sans-Serif\" font-size=\"14.00\" fill=\"#000000\">class = Left</text>\n",
       "</g>\n",
       "<!-- 8&#45;&gt;15 -->\n",
       "<g id=\"edge10\" class=\"edge\">\n",
       "<title>8&#45;&gt;15</title>\n",
       "<path fill=\"none\" stroke=\"#000000\" d=\"M486.3179,-222.8796C481.0867,-214.2335 475.5195,-205.0322 470.1177,-196.1042\"/>\n",
       "<polygon fill=\"#000000\" stroke=\"#000000\" points=\"472.9608,-194.0421 464.7896,-187.2981 466.9717,-197.6658 472.9608,-194.0421\"/>\n",
       "</g>\n",
       "<!-- 16 -->\n",
       "<g id=\"node14\" class=\"node\">\n",
       "<title>16</title>\n",
       "<path fill=\"#bddef6\" stroke=\"#000000\" d=\"M644,-179.5C644,-179.5 555,-179.5 555,-179.5 549,-179.5 543,-173.5 543,-167.5 543,-167.5 543,-123.5 543,-123.5 543,-117.5 549,-111.5 555,-111.5 555,-111.5 644,-111.5 644,-111.5 650,-111.5 656,-117.5 656,-123.5 656,-123.5 656,-167.5 656,-167.5 656,-173.5 650,-179.5 644,-179.5\"/>\n",
       "<text text-anchor=\"start\" x=\"567\" y=\"-164.3\" font-family=\"Helvetica,sans-Serif\" font-size=\"14.00\" fill=\"#000000\">gini = 0.48</text>\n",
       "<text text-anchor=\"start\" x=\"557.5\" y=\"-149.3\" font-family=\"Helvetica,sans-Serif\" font-size=\"14.00\" fill=\"#000000\">samples = 40</text>\n",
       "<text text-anchor=\"start\" x=\"551\" y=\"-134.3\" font-family=\"Helvetica,sans-Serif\" font-size=\"14.00\" fill=\"#000000\">value = [16, 24]</text>\n",
       "<text text-anchor=\"start\" x=\"561.5\" y=\"-119.3\" font-family=\"Helvetica,sans-Serif\" font-size=\"14.00\" fill=\"#000000\">class = Stay</text>\n",
       "</g>\n",
       "<!-- 8&#45;&gt;16 -->\n",
       "<g id=\"edge13\" class=\"edge\">\n",
       "<title>8&#45;&gt;16</title>\n",
       "<path fill=\"none\" stroke=\"#000000\" d=\"M542.2781,-222.8796C550.6536,-211.5536 559.7338,-199.2748 568.1411,-187.9058\"/>\n",
       "<polygon fill=\"#000000\" stroke=\"#000000\" points=\"570.9925,-189.9364 574.1242,-179.8149 565.3643,-185.7743 570.9925,-189.9364\"/>\n",
       "</g>\n",
       "<!-- 17 -->\n",
       "<g id=\"node12\" class=\"node\">\n",
       "<title>17</title>\n",
       "<path fill=\"#b3d9f5\" stroke=\"#000000\" d=\"M418,-68C418,-68 337,-68 337,-68 331,-68 325,-62 325,-56 325,-56 325,-12 325,-12 325,-6 331,0 337,0 337,0 418,0 418,0 424,0 430,-6 430,-12 430,-12 430,-56 430,-56 430,-62 424,-68 418,-68\"/>\n",
       "<text text-anchor=\"start\" x=\"341\" y=\"-52.8\" font-family=\"Helvetica,sans-Serif\" font-size=\"14.00\" fill=\"#000000\">gini = 0.472</text>\n",
       "<text text-anchor=\"start\" x=\"335.5\" y=\"-37.8\" font-family=\"Helvetica,sans-Serif\" font-size=\"14.00\" fill=\"#000000\">samples = 21</text>\n",
       "<text text-anchor=\"start\" x=\"333\" y=\"-22.8\" font-family=\"Helvetica,sans-Serif\" font-size=\"14.00\" fill=\"#000000\">value = [8, 13]</text>\n",
       "<text text-anchor=\"start\" x=\"339.5\" y=\"-7.8\" font-family=\"Helvetica,sans-Serif\" font-size=\"14.00\" fill=\"#000000\">class = Stay</text>\n",
       "</g>\n",
       "<!-- 15&#45;&gt;17 -->\n",
       "<g id=\"edge11\" class=\"edge\">\n",
       "<title>15&#45;&gt;17</title>\n",
       "<path fill=\"none\" stroke=\"#000000\" d=\"M416.4135,-103.9815C411.5585,-95.2504 406.426,-86.0202 401.5371,-77.2281\"/>\n",
       "<polygon fill=\"#000000\" stroke=\"#000000\" points=\"404.4712,-75.3025 396.5524,-68.2637 398.3533,-78.7043 404.4712,-75.3025\"/>\n",
       "</g>\n",
       "<!-- 18 -->\n",
       "<g id=\"node13\" class=\"node\">\n",
       "<title>18</title>\n",
       "<path fill=\"#e88f4f\" stroke=\"#000000\" d=\"M541,-68C541,-68 460,-68 460,-68 454,-68 448,-62 448,-56 448,-56 448,-12 448,-12 448,-6 454,0 460,0 460,0 541,0 541,0 547,0 553,-6 553,-12 553,-12 553,-56 553,-56 553,-62 547,-68 541,-68\"/>\n",
       "<text text-anchor=\"start\" x=\"468\" y=\"-52.8\" font-family=\"Helvetica,sans-Serif\" font-size=\"14.00\" fill=\"#000000\">gini = 0.18</text>\n",
       "<text text-anchor=\"start\" x=\"458.5\" y=\"-37.8\" font-family=\"Helvetica,sans-Serif\" font-size=\"14.00\" fill=\"#000000\">samples = 40</text>\n",
       "<text text-anchor=\"start\" x=\"456\" y=\"-22.8\" font-family=\"Helvetica,sans-Serif\" font-size=\"14.00\" fill=\"#000000\">value = [36, 4]</text>\n",
       "<text text-anchor=\"start\" x=\"464.5\" y=\"-7.8\" font-family=\"Helvetica,sans-Serif\" font-size=\"14.00\" fill=\"#000000\">class = Left</text>\n",
       "</g>\n",
       "<!-- 15&#45;&gt;18 -->\n",
       "<g id=\"edge12\" class=\"edge\">\n",
       "<title>15&#45;&gt;18</title>\n",
       "<path fill=\"none\" stroke=\"#000000\" d=\"M462.2141,-103.9815C466.9908,-95.2504 472.0405,-86.0202 476.8506,-77.2281\"/>\n",
       "<polygon fill=\"#000000\" stroke=\"#000000\" points=\"480.0258,-78.7165 481.7549,-68.2637 473.8847,-75.3568 480.0258,-78.7165\"/>\n",
       "</g>\n",
       "<!-- 5 -->\n",
       "<g id=\"node16\" class=\"node\">\n",
       "<title>5</title>\n",
       "<path fill=\"#f2bf9a\" stroke=\"#000000\" d=\"M714.5,-425C714.5,-425 570.5,-425 570.5,-425 564.5,-425 558.5,-419 558.5,-413 558.5,-413 558.5,-354 558.5,-354 558.5,-348 564.5,-342 570.5,-342 570.5,-342 714.5,-342 714.5,-342 720.5,-342 726.5,-348 726.5,-354 726.5,-354 726.5,-413 726.5,-413 726.5,-419 720.5,-425 714.5,-425\"/>\n",
       "<text text-anchor=\"start\" x=\"566.5\" y=\"-409.8\" font-family=\"Helvetica,sans-Serif\" font-size=\"14.00\" fill=\"#000000\">Research Scientist ≤ 0.5</text>\n",
       "<text text-anchor=\"start\" x=\"606\" y=\"-394.8\" font-family=\"Helvetica,sans-Serif\" font-size=\"14.00\" fill=\"#000000\">gini = 0.442</text>\n",
       "<text text-anchor=\"start\" x=\"600.5\" y=\"-379.8\" font-family=\"Helvetica,sans-Serif\" font-size=\"14.00\" fill=\"#000000\">samples = 88</text>\n",
       "<text text-anchor=\"start\" x=\"594\" y=\"-364.8\" font-family=\"Helvetica,sans-Serif\" font-size=\"14.00\" fill=\"#000000\">value = [59, 29]</text>\n",
       "<text text-anchor=\"start\" x=\"606.5\" y=\"-349.8\" font-family=\"Helvetica,sans-Serif\" font-size=\"14.00\" fill=\"#000000\">class = Left</text>\n",
       "</g>\n",
       "<!-- 2&#45;&gt;5 -->\n",
       "<g id=\"edge15\" class=\"edge\">\n",
       "<title>2&#45;&gt;5</title>\n",
       "<path fill=\"none\" stroke=\"#000000\" d=\"M642.5,-460.8796C642.5,-452.6838 642.5,-443.9891 642.5,-435.5013\"/>\n",
       "<polygon fill=\"#000000\" stroke=\"#000000\" points=\"646.0001,-435.298 642.5,-425.2981 639.0001,-435.2981 646.0001,-435.298\"/>\n",
       "</g>\n",
       "<!-- 6 -->\n",
       "<g id=\"node19\" class=\"node\">\n",
       "<title>6</title>\n",
       "<path fill=\"#e78d4b\" stroke=\"#000000\" d=\"M852.5,-417.5C852.5,-417.5 756.5,-417.5 756.5,-417.5 750.5,-417.5 744.5,-411.5 744.5,-405.5 744.5,-405.5 744.5,-361.5 744.5,-361.5 744.5,-355.5 750.5,-349.5 756.5,-349.5 756.5,-349.5 852.5,-349.5 852.5,-349.5 858.5,-349.5 864.5,-355.5 864.5,-361.5 864.5,-361.5 864.5,-405.5 864.5,-405.5 864.5,-411.5 858.5,-417.5 852.5,-417.5\"/>\n",
       "<text text-anchor=\"start\" x=\"768\" y=\"-402.3\" font-family=\"Helvetica,sans-Serif\" font-size=\"14.00\" fill=\"#000000\">gini = 0.154</text>\n",
       "<text text-anchor=\"start\" x=\"758.5\" y=\"-387.3\" font-family=\"Helvetica,sans-Serif\" font-size=\"14.00\" fill=\"#000000\">samples = 966</text>\n",
       "<text text-anchor=\"start\" x=\"752.5\" y=\"-372.3\" font-family=\"Helvetica,sans-Serif\" font-size=\"14.00\" fill=\"#000000\">value = [885, 81]</text>\n",
       "<text text-anchor=\"start\" x=\"768.5\" y=\"-357.3\" font-family=\"Helvetica,sans-Serif\" font-size=\"14.00\" fill=\"#000000\">class = Left</text>\n",
       "</g>\n",
       "<!-- 2&#45;&gt;6 -->\n",
       "<g id=\"edge18\" class=\"edge\">\n",
       "<title>2&#45;&gt;6</title>\n",
       "<path fill=\"none\" stroke=\"#000000\" d=\"M699.1597,-460.8796C715.5541,-448.8368 733.4151,-435.7167 749.6942,-423.7586\"/>\n",
       "<polygon fill=\"#000000\" stroke=\"#000000\" points=\"752.0595,-426.3639 758.0468,-417.623 747.9154,-420.7224 752.0595,-426.3639\"/>\n",
       "</g>\n",
       "<!-- 13 -->\n",
       "<g id=\"node17\" class=\"node\">\n",
       "<title>13</title>\n",
       "<path fill=\"#fae8db\" stroke=\"#000000\" d=\"M687,-298.5C687,-298.5 598,-298.5 598,-298.5 592,-298.5 586,-292.5 586,-286.5 586,-286.5 586,-242.5 586,-242.5 586,-236.5 592,-230.5 598,-230.5 598,-230.5 687,-230.5 687,-230.5 693,-230.5 699,-236.5 699,-242.5 699,-242.5 699,-286.5 699,-286.5 699,-292.5 693,-298.5 687,-298.5\"/>\n",
       "<text text-anchor=\"start\" x=\"606\" y=\"-283.3\" font-family=\"Helvetica,sans-Serif\" font-size=\"14.00\" fill=\"#000000\">gini = 0.495</text>\n",
       "<text text-anchor=\"start\" x=\"600.5\" y=\"-268.3\" font-family=\"Helvetica,sans-Serif\" font-size=\"14.00\" fill=\"#000000\">samples = 60</text>\n",
       "<text text-anchor=\"start\" x=\"594\" y=\"-253.3\" font-family=\"Helvetica,sans-Serif\" font-size=\"14.00\" fill=\"#000000\">value = [33, 27]</text>\n",
       "<text text-anchor=\"start\" x=\"606.5\" y=\"-238.3\" font-family=\"Helvetica,sans-Serif\" font-size=\"14.00\" fill=\"#000000\">class = Left</text>\n",
       "</g>\n",
       "<!-- 5&#45;&gt;13 -->\n",
       "<g id=\"edge16\" class=\"edge\">\n",
       "<title>5&#45;&gt;13</title>\n",
       "<path fill=\"none\" stroke=\"#000000\" d=\"M642.5,-341.8796C642.5,-331.2134 642.5,-319.7021 642.5,-308.9015\"/>\n",
       "<polygon fill=\"#000000\" stroke=\"#000000\" points=\"646.0001,-308.8149 642.5,-298.8149 639.0001,-308.815 646.0001,-308.8149\"/>\n",
       "</g>\n",
       "<!-- 14 -->\n",
       "<g id=\"node18\" class=\"node\">\n",
       "<title>14</title>\n",
       "<path fill=\"#e78b48\" stroke=\"#000000\" d=\"M810,-298.5C810,-298.5 729,-298.5 729,-298.5 723,-298.5 717,-292.5 717,-286.5 717,-286.5 717,-242.5 717,-242.5 717,-236.5 723,-230.5 729,-230.5 729,-230.5 810,-230.5 810,-230.5 816,-230.5 822,-236.5 822,-242.5 822,-242.5 822,-286.5 822,-286.5 822,-292.5 816,-298.5 810,-298.5\"/>\n",
       "<text text-anchor=\"start\" x=\"733\" y=\"-283.3\" font-family=\"Helvetica,sans-Serif\" font-size=\"14.00\" fill=\"#000000\">gini = 0.133</text>\n",
       "<text text-anchor=\"start\" x=\"727.5\" y=\"-268.3\" font-family=\"Helvetica,sans-Serif\" font-size=\"14.00\" fill=\"#000000\">samples = 28</text>\n",
       "<text text-anchor=\"start\" x=\"725\" y=\"-253.3\" font-family=\"Helvetica,sans-Serif\" font-size=\"14.00\" fill=\"#000000\">value = [26, 2]</text>\n",
       "<text text-anchor=\"start\" x=\"733.5\" y=\"-238.3\" font-family=\"Helvetica,sans-Serif\" font-size=\"14.00\" fill=\"#000000\">class = Left</text>\n",
       "</g>\n",
       "<!-- 5&#45;&gt;14 -->\n",
       "<g id=\"edge17\" class=\"edge\">\n",
       "<title>5&#45;&gt;14</title>\n",
       "<path fill=\"none\" stroke=\"#000000\" d=\"M686.9184,-341.8796C699.3579,-330.2237 712.8743,-317.5587 725.301,-305.9148\"/>\n",
       "<polygon fill=\"#000000\" stroke=\"#000000\" points=\"727.9741,-308.2065 732.8782,-298.8149 723.1879,-303.0985 727.9741,-308.2065\"/>\n",
       "</g>\n",
       "</g>\n",
       "</svg>\n"
      ],
      "text/plain": [
       "<graphviz.files.Source at 0x12ca600d0>"
      ]
     },
     "execution_count": 33,
     "metadata": {},
     "output_type": "execute_result"
    }
   ],
   "source": [
    "graph = graphviz.Source(dot_data)  \n",
    "graph"
   ]
  },
  {
   "cell_type": "code",
   "execution_count": null,
   "metadata": {},
   "outputs": [],
   "source": []
  }
 ],
 "metadata": {
  "kernelspec": {
   "display_name": "Python 3",
   "language": "python",
   "name": "python3"
  },
  "language_info": {
   "codemirror_mode": {
    "name": "ipython",
    "version": 3
   },
   "file_extension": ".py",
   "mimetype": "text/x-python",
   "name": "python",
   "nbconvert_exporter": "python",
   "pygments_lexer": "ipython3",
   "version": "3.7.4"
  }
 },
 "nbformat": 4,
 "nbformat_minor": 4
}
